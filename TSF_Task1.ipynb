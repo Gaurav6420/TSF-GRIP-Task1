{
  "nbformat": 4,
  "nbformat_minor": 0,
  "metadata": {
    "colab": {
      "name": "TSF_Task1.ipynb",
      "provenance": [],
      "collapsed_sections": []
    },
    "kernelspec": {
      "name": "python3",
      "display_name": "Python 3"
    },
    "language_info": {
      "name": "python"
    }
  },
  "cells": [
    {
      "cell_type": "markdown",
      "metadata": {
        "id": "wkk3C8TBbB4f"
      },
      "source": [
        "## **The Sparks Foundation, GRIP June 2021**"
      ]
    },
    {
      "cell_type": "markdown",
      "metadata": {
        "id": "Xo5v3laXbB2H"
      },
      "source": [
        "**Data Science and Business Analytics Intern**"
      ]
    },
    {
      "cell_type": "markdown",
      "metadata": {
        "id": "5ovh_saybBz1"
      },
      "source": [
        "### **Task 1: Prediction using Supervised ML**\n",
        "*Predict the percentage of student based on the no. of study hours*\n"
      ]
    },
    {
      "cell_type": "markdown",
      "metadata": {
        "id": "Uog33dEqbBxB"
      },
      "source": [
        "**By - Gaurav Bavdane**"
      ]
    },
    {
      "cell_type": "markdown",
      "metadata": {
        "id": "9ywHcsZgq2UA"
      },
      "source": [
        "###**Importing libraries**"
      ]
    },
    {
      "cell_type": "code",
      "metadata": {
        "id": "KecFkNAmqOaS"
      },
      "source": [
        "import pandas as pd\n",
        "import matplotlib.pyplot as plt\n",
        "import numpy as np"
      ],
      "execution_count": null,
      "outputs": []
    },
    {
      "cell_type": "markdown",
      "metadata": {
        "id": "iT5z3ynIrDXE"
      },
      "source": [
        "###**Importing data**"
      ]
    },
    {
      "cell_type": "code",
      "metadata": {
        "colab": {
          "base_uri": "https://localhost:8080/",
          "height": 203
        },
        "id": "7Ix5g0ZOrb6s",
        "outputId": "130449d9-8336-45d4-bd75-510717cc5ac7"
      },
      "source": [
        "url = \"http://bit.ly/w-data\"\n",
        "data = pd. read_csv(url)\n",
        "data.head(5)"
      ],
      "execution_count": null,
      "outputs": [
        {
          "output_type": "execute_result",
          "data": {
            "text/html": [
              "<div>\n",
              "<style scoped>\n",
              "    .dataframe tbody tr th:only-of-type {\n",
              "        vertical-align: middle;\n",
              "    }\n",
              "\n",
              "    .dataframe tbody tr th {\n",
              "        vertical-align: top;\n",
              "    }\n",
              "\n",
              "    .dataframe thead th {\n",
              "        text-align: right;\n",
              "    }\n",
              "</style>\n",
              "<table border=\"1\" class=\"dataframe\">\n",
              "  <thead>\n",
              "    <tr style=\"text-align: right;\">\n",
              "      <th></th>\n",
              "      <th>Hours</th>\n",
              "      <th>Scores</th>\n",
              "    </tr>\n",
              "  </thead>\n",
              "  <tbody>\n",
              "    <tr>\n",
              "      <th>0</th>\n",
              "      <td>2.5</td>\n",
              "      <td>21</td>\n",
              "    </tr>\n",
              "    <tr>\n",
              "      <th>1</th>\n",
              "      <td>5.1</td>\n",
              "      <td>47</td>\n",
              "    </tr>\n",
              "    <tr>\n",
              "      <th>2</th>\n",
              "      <td>3.2</td>\n",
              "      <td>27</td>\n",
              "    </tr>\n",
              "    <tr>\n",
              "      <th>3</th>\n",
              "      <td>8.5</td>\n",
              "      <td>75</td>\n",
              "    </tr>\n",
              "    <tr>\n",
              "      <th>4</th>\n",
              "      <td>3.5</td>\n",
              "      <td>30</td>\n",
              "    </tr>\n",
              "  </tbody>\n",
              "</table>\n",
              "</div>"
            ],
            "text/plain": [
              "   Hours  Scores\n",
              "0    2.5      21\n",
              "1    5.1      47\n",
              "2    3.2      27\n",
              "3    8.5      75\n",
              "4    3.5      30"
            ]
          },
          "metadata": {
            "tags": []
          },
          "execution_count": 2
        }
      ]
    },
    {
      "cell_type": "markdown",
      "metadata": {
        "id": "ARxgO3YvrR4k"
      },
      "source": [
        "###**Data Visualization**"
      ]
    },
    {
      "cell_type": "code",
      "metadata": {
        "colab": {
          "base_uri": "https://localhost:8080/",
          "height": 295
        },
        "id": "nO9M1NTxr7AW",
        "outputId": "b3599ed8-2181-4cca-9ff6-f7d2e0f316e0"
      },
      "source": [
        "data.plot(x='Hours', y = 'Scores', style='o')\n",
        "plt.title('Hours vs Percentage')\n",
        "plt.xlabel('Hours')\n",
        "plt.ylabel('Scores')\n",
        "plt.show()"
      ],
      "execution_count": null,
      "outputs": [
        {
          "output_type": "display_data",
          "data": {
            "image/png": "[encoded data removed]",
            "text/plain": [
              "<Figure size 432x288 with 1 Axes>"
            ]
          },
          "metadata": {
            "tags": [],
            "needs_background": "light"
          }
        }
      ]
    },
    {
      "cell_type": "markdown",
      "metadata": {
        "id": "dPUkf5sUrfXY"
      },
      "source": [
        "###**Separating data in X and Y variables**"
      ]
    },
    {
      "cell_type": "code",
      "metadata": {
        "id": "B-IaBlPrsrjR"
      },
      "source": [
        "X = data.iloc[:, :-1].values\n",
        "Y = data.iloc[:, 1].values"
      ],
      "execution_count": null,
      "outputs": []
    },
    {
      "cell_type": "markdown",
      "metadata": {
        "id": "WyHgncTWrpa7"
      },
      "source": [
        "###**Train Test Split**"
      ]
    },
    {
      "cell_type": "code",
      "metadata": {
        "id": "9MXhXxtFuGoY"
      },
      "source": [
        "from sklearn.model_selection import train_test_split\n",
        "X_train, X_test, Y_train, Y_test = train_test_split(X, Y, test_size = 0.2, random_state=0)"
      ],
      "execution_count": null,
      "outputs": []
    },
    {
      "cell_type": "markdown",
      "metadata": {
        "id": "zRXTBE51rtIZ"
      },
      "source": [
        "###**Linear Regression**\n",
        "Since, we have only two variables in the dataset i.e. Hours and Scores in percentage we perform linear regression and train our model."
      ]
    },
    {
      "cell_type": "code",
      "metadata": {
        "colab": {
          "base_uri": "https://localhost:8080/"
        },
        "id": "yU1UcmCxvEMh",
        "outputId": "856e5ba7-1c13-401a-9789-4351dbf91968"
      },
      "source": [
        "from sklearn.linear_model import LinearRegression\n",
        "reg = LinearRegression()\n",
        "reg.fit(X_train, Y_train)"
      ],
      "execution_count": null,
      "outputs": [
        {
          "output_type": "execute_result",
          "data": {
            "text/plain": [
              "LinearRegression(copy_X=True, fit_intercept=True, n_jobs=None, normalize=False)"
            ]
          },
          "metadata": {
            "tags": []
          },
          "execution_count": 6
        }
      ]
    },
    {
      "cell_type": "markdown",
      "metadata": {
        "id": "d-8qdijesoMI"
      },
      "source": [
        "###**Linear Regression Equation**\n",
        "y = a1 + a0*x,\n",
        "where, a1=intercept and a0=coefficient"
      ]
    },
    {
      "cell_type": "code",
      "metadata": {
        "id": "GiyzJ7BgvS2G"
      },
      "source": [
        "line = reg.intercept_ + reg.coef_*X"
      ],
      "execution_count": null,
      "outputs": []
    },
    {
      "cell_type": "markdown",
      "metadata": {
        "id": "AVIUTmiTtNWO"
      },
      "source": [
        "###**Regression line**\n",
        "First the X, Y data points are scattered in the graph and then the regression line is ploted these two things when combined helps us to analyze the predictions made by the model with the actual values.\n",
        "Here, plt.scatter(X ,Y) plots the actual data point values and the plt.plot(X, line) function plot the regression line (predicted values)."
      ]
    },
    {
      "cell_type": "code",
      "metadata": {
        "colab": {
          "base_uri": "https://localhost:8080/",
          "height": 265
        },
        "id": "5zaXaFIHv5t0",
        "outputId": "2080b71f-ac1c-44e9-94b9-af2ff9cb411a"
      },
      "source": [
        "plt.scatter(X , Y, color= 'red')\n",
        "plt.plot(X, line)\n",
        "plt.show()"
      ],
      "execution_count": null,
      "outputs": [
        {
          "output_type": "display_data",
          "data": {
            "image/png": "[encoded data removed]",
            "text/plain": [
              "<Figure size 432x288 with 1 Axes>"
            ]
          },
          "metadata": {
            "tags": [],
            "needs_background": "light"
          }
        }
      ]
    },
    {
      "cell_type": "markdown",
      "metadata": {
        "id": "63xuUlRCuYnl"
      },
      "source": [
        "###**Predict the test set using the trained model**"
      ]
    },
    {
      "cell_type": "code",
      "metadata": {
        "id": "8zdLNtiPwpxT"
      },
      "source": [
        "y_pred = reg.predict(X_test)"
      ],
      "execution_count": null,
      "outputs": []
    },
    {
      "cell_type": "markdown",
      "metadata": {
        "id": "LcngTJo9uhpR"
      },
      "source": [
        "###**Compare the test set actual values and the predicted values of the test set**\n"
      ]
    },
    {
      "cell_type": "code",
      "metadata": {
        "colab": {
          "base_uri": "https://localhost:8080/",
          "height": 203
        },
        "id": "5Y4ThBIww1TP",
        "outputId": "d874ae24-ab67-4aaf-d8c9-fc761c84b216"
      },
      "source": [
        "df = pd.DataFrame({'Actual': Y_test, 'Predicted': y_pred})\n",
        "df"
      ],
      "execution_count": null,
      "outputs": [
        {
          "output_type": "execute_result",
          "data": {
            "text/html": [
              "<div>\n",
              "<style scoped>\n",
              "    .dataframe tbody tr th:only-of-type {\n",
              "        vertical-align: middle;\n",
              "    }\n",
              "\n",
              "    .dataframe tbody tr th {\n",
              "        vertical-align: top;\n",
              "    }\n",
              "\n",
              "    .dataframe thead th {\n",
              "        text-align: right;\n",
              "    }\n",
              "</style>\n",
              "<table border=\"1\" class=\"dataframe\">\n",
              "  <thead>\n",
              "    <tr style=\"text-align: right;\">\n",
              "      <th></th>\n",
              "      <th>Actual</th>\n",
              "      <th>Predicted</th>\n",
              "    </tr>\n",
              "  </thead>\n",
              "  <tbody>\n",
              "    <tr>\n",
              "      <th>0</th>\n",
              "      <td>20</td>\n",
              "      <td>16.884145</td>\n",
              "    </tr>\n",
              "    <tr>\n",
              "      <th>1</th>\n",
              "      <td>27</td>\n",
              "      <td>33.732261</td>\n",
              "    </tr>\n",
              "    <tr>\n",
              "      <th>2</th>\n",
              "      <td>69</td>\n",
              "      <td>75.357018</td>\n",
              "    </tr>\n",
              "    <tr>\n",
              "      <th>3</th>\n",
              "      <td>30</td>\n",
              "      <td>26.794801</td>\n",
              "    </tr>\n",
              "    <tr>\n",
              "      <th>4</th>\n",
              "      <td>62</td>\n",
              "      <td>60.491033</td>\n",
              "    </tr>\n",
              "  </tbody>\n",
              "</table>\n",
              "</div>"
            ],
            "text/plain": [
              "   Actual  Predicted\n",
              "0      20  16.884145\n",
              "1      27  33.732261\n",
              "2      69  75.357018\n",
              "3      30  26.794801\n",
              "4      62  60.491033"
            ]
          },
          "metadata": {
            "tags": []
          },
          "execution_count": 10
        }
      ]
    },
    {
      "cell_type": "markdown",
      "metadata": {
        "id": "ZhRN8nvZvFaQ"
      },
      "source": [
        "###**Test the trained model for any number of input hours**"
      ]
    },
    {
      "cell_type": "code",
      "metadata": {
        "colab": {
          "base_uri": "https://localhost:8080/"
        },
        "id": "Sg4KBNYJxTGm",
        "outputId": "e1cd8527-9ac4-417b-b740-3a89710c1d9f"
      },
      "source": [
        "hours = [9.25]\n",
        "pred_score = reg.predict([hours])\n",
        "print(\"For {} hours\".format(hours) + \" the predicted score is {}\".format(pred_score[0]))"
      ],
      "execution_count": null,
      "outputs": [
        {
          "output_type": "stream",
          "text": [
            "For [9.25] hours the predicted score is 93.69173248737539\n"
          ],
          "name": "stdout"
        }
      ]
    },
    {
      "cell_type": "markdown",
      "metadata": {
        "id": "ehrm2dAkwP46"
      },
      "source": [
        "###**Evaluation of the model**\n",
        "We test the performance of the model on the basis of some metrics one such in the mean absolute error."
      ]
    },
    {
      "cell_type": "code",
      "metadata": {
        "id": "A5ROQPmcz9eG",
        "colab": {
          "base_uri": "https://localhost:8080/"
        },
        "outputId": "9f02e9b7-cc4b-41fb-bcd2-936f15465b3e"
      },
      "source": [
        "from sklearn import metrics\n",
        "print('Mean Absolute Error:',\n",
        "      metrics.mean_absolute_error(Y_test, y_pred))"
      ],
      "execution_count": null,
      "outputs": [
        {
          "output_type": "stream",
          "text": [
            "Mean Absolute Error: 4.183859899002982\n"
          ],
          "name": "stdout"
        }
      ]
    }
  ]
}